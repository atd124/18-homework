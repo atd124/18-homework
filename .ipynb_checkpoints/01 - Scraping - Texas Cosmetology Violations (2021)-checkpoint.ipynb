{
 "cells": [
  {
   "cell_type": "markdown",
   "metadata": {},
   "source": [
    "# Texas Cosmetologist Violations\n",
    "\n",
    "Texas has a system for [searching for license violations](https://www.tdlr.texas.gov/cimsfo/fosearch.asp). You're going to search for cosmetologists!"
   ]
  },
  {
   "cell_type": "markdown",
   "metadata": {},
   "source": [
    "## Setup: Import what you'll need to scrape the page\n",
    "\n",
    "We'll be using Selenium for this, *not* BeautifulSoup and requests."
   ]
  },
  {
   "cell_type": "code",
   "execution_count": 1,
   "metadata": {},
   "outputs": [],
   "source": [
    "from selenium import webdriver\n",
    "from selenium.webdriver.common.by import By\n",
    "from webdriver_manager.chrome import ChromeDriverManager"
   ]
  },
  {
   "cell_type": "code",
   "execution_count": 2,
   "metadata": {},
   "outputs": [
    {
     "name": "stdout",
     "output_type": "stream",
     "text": [
      "\n"
     ]
    },
    {
     "name": "stderr",
     "output_type": "stream",
     "text": [
      "C:\\Users\\Family\\AppData\\Local\\Temp\\ipykernel_22792\\1503906442.py:1: DeprecationWarning: executable_path has been deprecated, please pass in a Service object\n",
      "  driver = webdriver.Chrome(ChromeDriverManager().install())\n"
     ]
    }
   ],
   "source": [
    "driver = webdriver.Chrome(ChromeDriverManager().install())"
   ]
  },
  {
   "cell_type": "markdown",
   "metadata": {
    "collapsed": true
   },
   "source": [
    "## Starting your search\n",
    "\n",
    "Starting from [here](https://www.tdlr.texas.gov/cimsfo/fosearch.asp), search for cosmetologist violations for people with the last name **Nguyen**."
   ]
  },
  {
   "cell_type": "code",
   "execution_count": 3,
   "metadata": {},
   "outputs": [],
   "source": [
    "driver.get(\"https://www.tdlr.texas.gov/cimsfo/fosearch.asp\")"
   ]
  },
  {
   "cell_type": "code",
   "execution_count": 4,
   "metadata": {},
   "outputs": [],
   "source": [
    "driver.find_element(By.ID, \"pht_lnm\").send_keys(\"Nguyen\")"
   ]
  },
  {
   "cell_type": "code",
   "execution_count": 5,
   "metadata": {},
   "outputs": [],
   "source": [
    "driver.find_element(By.XPATH, '//*[@id=\"dat-menu\"]/div/div[2]/div/div/section/div/div/table/tbody/tr/td/form/table/tbody/tr[18]/td/input[1]').click()"
   ]
  },
  {
   "cell_type": "markdown",
   "metadata": {},
   "source": [
    "## Scraping\n",
    "\n",
    "Once you are on the results page, do this. **I step you through things bit by bit, so it's going to be a little different than we did in class.** Also, no `pd.read_html` allowed because this isn't actual tabular data!\n",
    "\n",
    "> You can use either Selenium by itself or Selenium+BeautifulSoup to scrape the results page. The choice is up to you!"
   ]
  },
  {
   "cell_type": "markdown",
   "metadata": {},
   "source": [
    "### Loop through each result and print the entire row\n",
    "\n",
    "Okay wait, maybe not, i's a heck of a lot of rows. Use `[:10]` to only do the first ten! For example, if you saved the table rows into `results` you might do something like this:\n",
    "\n",
    "```python\n",
    "for result in results[:10]:\n",
    "    print(result)\n",
    "```\n",
    "\n",
    "Although you'd want to print out the text from the row (I give example output below).\n",
    "\n",
    "> *Tip: If you're using Selenium, `By.TAG_NAME` is used if you don't have a class or ID. If you're using BeautifulSoup, just do your normal thing.*"
   ]
  },
  {
   "cell_type": "code",
   "execution_count": 6,
   "metadata": {},
   "outputs": [],
   "source": [
    "from bs4 import BeautifulSoup\n",
    "import requests\n",
    "\n",
    "headers = {'User-Agent': 'Mozilla/5.0 (Windows; U; Windows NT 5.1; hu-HU; rv:1.7.8) Gecko/20050511 Firefox/1.0.4'}"
   ]
  },
  {
   "cell_type": "code",
   "execution_count": 7,
   "metadata": {},
   "outputs": [
    {
     "name": "stdout",
     "output_type": "stream",
     "text": [
      "Name and Location Order Basis for Order\n",
      "NGUYEN, KEVIN C\n",
      "City: KYLE\n",
      "County: HAYS\n",
      "Zip Code: 78640\n",
      "\n",
      "\n",
      "License #: 801188\n",
      "\n",
      "Complaint # COS20220002667 Date: 7/25/2022\n",
      "\n",
      "Respondent is assessed an administrative penalty in the amount of $3,175. Respondent failed to clean, disinfect, and sterilize manicure and pedicure implements after each use; Respondent failed to keep a record of the date and time of each foot spa daily or bi-weekly cleaning and if the foot spa was not used; Respondent failed to follow whirlpool foot spas cleaning and sanitization procedures as required daily, bi-weekly, and before use by each patron.\n",
      "NGUYEN, MAI T\n",
      "City: AUSTIN\n",
      "County: TRAVIS\n",
      "Zip Code: 78717\n",
      "\n",
      "\n",
      "License #: 750076\n",
      "\n",
      "Complaint # COS20220000853 Date: 7/7/2022\n",
      "\n",
      "Respondent is assessed an administrative penalty in the amount of $7,500. Respondent failed to clean, disinfect, and sterilize metal instruments with a Department-approved sterilizer in accordance with the sterilizer or sanitizers manufacturer's instructions; Respondent failed to keep a record of the date and time of each foot spa daily or bi-weekly cleaning and if the foot spa was not used, the Department is charging 3 violations; Respondent failed to follow whirlpool foot spas cleaning and sanitization procedures as required, the Department is charging 3 violations; Respondent failed to clean and disinfect all wax pots; Respondent failed to clean diamond, carbide, natural and metal bits after each use with a brush or ultrasonic cleaner, or by immersing in acetone.\n",
      "NGUYEN, HUNG VU\n",
      "City: HOUSTON\n",
      "County: HARRIS\n",
      "Zip Code: 77086\n",
      "\n",
      "\n",
      "License #: 763912\n",
      "\n",
      "Complaint # COS20200013887 Date: 7/6/2022\n",
      "\n",
      "Respondent is assessed an administrative penalty in the amount of $3,000. Respondent failed to keep floors, walls, ceilings, shelves, furniture, furnishings, and fixtures clean and in good repair; Respondent failed to clean and disinfect multiple use implements after each customer; Respondent failed to keep a record of the date and time of each foot spa daily or bi-weekly cleaning and if the foot spa was not used, the Department is charging 2 violations; Respondent failed to clean, disinfect, and sterilize manicure and pedicure implements after each use, the Department is charging 2 violations; Respondent failed to disinfect tools, implements, and supplies with an EPA-registered disinfectant solution; Respondent failed to keep all products properly labeled in compliance with OSHA requirements.\n",
      "NGUYEN, MINH HIEN LUONG\n",
      "City: CARROLLTON\n",
      "County: DALLAS\n",
      "Zip Code: 75007\n",
      "\n",
      "\n",
      "License #: 777932\n",
      "\n",
      "Complaint # COS20210010437 Date: 6/27/2022\n",
      "\n",
      "Respondent is assessed an administrative penalty in the amount of $500. Respondent failed to clean and sanitize whirlpool foot spas as required at the end of each day.\n",
      "NGUYEN, PHUONG T\n",
      "City: PLANO\n",
      "County: COLLIN\n",
      "Zip Code: 75023\n",
      "\n",
      "\n",
      "License #: 766293\n",
      "\n",
      "Complaint # COS20210014779 Date: 6/16/2022\n",
      "\n",
      "Respondent is assessed an administrative penalty in the amount of $6,800. Respondent failed to keep a record of the date and time of each foot spa daily or bi-weekly cleaning and if the foot spa was not used, the Department is charging 9 violations; Respondent failed to clean and disinfect all wax pots; Respondent failed to utilize clean and disinfected implements; Respondent failed to clean and disinfect manicure tables prior to use for each client; Respondent failed to discard buffer blocks and porous nail files when exposed to a client's broken skin and/or unhealthy nails.\n",
      "NGUYEN, STEVEN MANH\n",
      "City: FORT WORTH\n",
      "County: TARRANT\n",
      "Zip Code: 76244\n",
      "\n",
      "\n",
      "License #: 773318\n",
      "\n",
      "Complaint # COS20200015190 Date: 6/9/2022\n",
      "\n",
      "Respondent is assessed an administrative penalty in the amount of $1,000. Respondent leased space in a salon to an individual who engaged in the practice of cosmetology but had not obtained a cosmetology license.\n",
      "NGUYEN, LANG THU\n",
      "City: ALLEN\n",
      "County: COLLIN\n",
      "Zip Code: 75002\n",
      "\n",
      "\n",
      "License #: 744463\n",
      "\n",
      "Complaint # COS20200008154 Date: 6/2/2022\n",
      "\n",
      "Respondent is assessed an administrative penalty in the amount of $1,000. Respondent failed to clean and sanitize whirlpool foot spas as required at the end of each day; Respondent failed to follow whirlpool foot spas cleaning and sanitization procedures as required.\n",
      "NGUYEN, THANH\n",
      "City: FRISCO\n",
      "County: COLLIN\n",
      "Zip Code: 75034\n",
      "\n",
      "\n",
      "License #: 790672\n",
      "\n",
      "Complaint # COS20200007790 Date: 5/2/2022\n",
      "\n",
      "Respondent is assessed an administrative penalty in the amount of $2,625. Respondent failed to follow whirlpool foot spas cleaning and sanitization procedures as required bi-weekly, the Department is charging 11 violations; Respondent failed to clean, disinfect, and sterilize manicure and pedicure implements after each use.\n",
      "NGUYEN, THOMAS\n",
      "City: HOUSTON\n",
      "County: HARRIS\n",
      "Zip Code: 77042\n",
      "\n",
      "NGUYEN, THOMAS\n",
      "City: HOUSTON\n",
      "County: HARRIS\n",
      "Zip Code: 77064\n",
      "\n",
      "\n",
      "License: Not Licensed\n",
      "\n",
      "Complaint # MAS20210004328 Date: 5/2/2022\n",
      "\n",
      "Respondent is ordered to immediately cease and desist from operating a place of business in which massage therapy and/or other massage services is offered and/or performed. Respondent operated a massage establishment without a massage establishment license.\n"
     ]
    }
   ],
   "source": [
    "cells = driver.find_elements(By.TAG_NAME, \"tr\")\n",
    "for cell in cells[:10]:\n",
    "    print(cell.text)"
   ]
  },
  {
   "cell_type": "code",
   "execution_count": 8,
   "metadata": {},
   "outputs": [],
   "source": [
    "response = requests.get(\"https://www.tdlr.texas.gov/cimsfo/fosearch.asp\", headers=headers)\n",
    "doc = BeautifulSoup(response.text)"
   ]
  },
  {
   "cell_type": "markdown",
   "metadata": {},
   "source": [
    "The result should look something like this:\n",
    "\n",
    "```\n",
    "Name and Location Order Basis for Order\n",
    "NGUYEN, THANH\n",
    "City: FRISCO\n",
    "County: COLLIN\n",
    "Zip Code: 75034\n",
    "\n",
    "\n",
    "License #: 790672\n",
    "\n",
    "Complaint # COS20210004784 Date: 11/16/2021\n",
    "\n",
    "Respondent is assessed an administrative penalty in the amount of $1,875. Respondent failed to clean and sanitize whirlpool foot spas as required at the end of each day, the Department is charging 2 violations; Respondent operated a cosmetology salon without the appropriate license.\n",
    "NGUYEN, LONG D\n",
    "City: SAN SABA\n",
    "County: SAN SABA\n",
    "Zip Code: 76877\n",
    "```"
   ]
  },
  {
   "cell_type": "markdown",
   "metadata": {},
   "source": [
    "### Loop through each result and print each person's name\n",
    "\n",
    "You'll get an error because the first one doesn't have a name. How do you make that not happen?! If you want to ignore an error, you use code like this:\n",
    "\n",
    "```python\n",
    "try:\n",
    "   # try to do something\n",
    "except:\n",
    "   print(\"It didn't work')\n",
    "```\n",
    "\n",
    "It should help you out. If you don't want to print anything when there's an error, you can type `pass` instead of the `print` statement.\n",
    "\n",
    "**Why doesn't the first one have a name?**\n",
    "\n",
    "Output should look like this:\n",
    "\n",
    "```\n",
    "Doesn't have a name\n",
    "NGUYEN, THANH\n",
    "NGUYEN, LONG D\n",
    "NGUYEN, LUCIE HUONG\n",
    "NGUYEN, CHINH\n",
    "NGUYEN, JIMMY\n",
    "```\n",
    "\n",
    "* *Tip: The name has a class you can use. The class name is reused in a lot of places, but because it's the first one you don't have to worry about that!*\n",
    "* *Tip: Instead of searching across the entire page – `driver.find_element` or `doc.select_one` – you should be doing your searching just inside of each **row** (I used this technique in the beginning of class with BeautifulSoup when we were scraping the books page)* "
   ]
  },
  {
   "cell_type": "code",
   "execution_count": 9,
   "metadata": {},
   "outputs": [
    {
     "name": "stdout",
     "output_type": "stream",
     "text": [
      "Doesn't have a name\n",
      "NGUYEN, KEVIN C\n",
      "NGUYEN, MAI T\n",
      "NGUYEN, HUNG VU\n",
      "NGUYEN, MINH HIEN LUONG\n",
      "NGUYEN, PHUONG T\n",
      "NGUYEN, STEVEN MANH\n",
      "NGUYEN, LANG THU\n",
      "NGUYEN, THANH\n",
      "NGUYEN, THOMAS\n"
     ]
    }
   ],
   "source": [
    "cells = driver.find_elements(By.TAG_NAME, \"tr\")\n",
    "for cell in cells[:10]:\n",
    "    names = cell.find_elements(By.CLASS_NAME, \"results_text\")\n",
    "    try:\n",
    "        print(names[0].text)\n",
    "    except:\n",
    "        print(\"Doesn't have a name\")"
   ]
  },
  {
   "cell_type": "markdown",
   "metadata": {},
   "source": [
    "## Loop through each result, printing each violation description (\"Basis for order\")\n",
    "\n",
    "Your results should look something like:\n",
    "\n",
    "```\n",
    "Doesn't have a violation\n",
    "Respondent failed to clean and sanitize whirlpool foot spas as required at the end of each day, the Department is charging 2 violations; Respondent operated a cosmetology salon without the appropriate license.\n",
    "Respondent failed to keep a record of the date and time of each foot spa daily or bi-weekly cleaning and if the foot spa was not used, the Department is charging 2 violations; Respondent failed to clean, disinfect, and sterilize manicure and pedicure implements after each use; Respondent failed to clean and disinfect manicure tables prior to use for each client.\n",
    "...\n",
    "```\n",
    "\n",
    "> - *Tip: You'll get an error even if you're ALMOST right - which row is causing the problem?*\n",
    "> - *Tip: If you're using Selenium by itself, you can get the HTML of something by doing `.get_attribute('innerHTML')` – that way it'll look like BeautifulSoup when you print it. It might help you diagnose your issue!*\n",
    "> - *Tip: Or I guess you could just skip the one with the problem...*"
   ]
  },
  {
   "cell_type": "code",
   "execution_count": 35,
   "metadata": {},
   "outputs": [
    {
     "name": "stdout",
     "output_type": "stream",
     "text": [
      "Doesn't have a complaint\n",
      "Respondent failed to clean, disinfect, and sterilize manicure and pedicure implements after each use; Respondent failed to keep a record of the date and time of each foot spa daily or bi-weekly cleaning and if the foot spa was not used; Respondent failed to follow whirlpool foot spas cleaning and sanitization procedures as required daily, bi-weekly, and before use by each patron.\n",
      "------\n",
      "Respondent failed to clean, disinfect, and sterilize metal instruments with a Department-approved sterilizer in accordance with the sterilizer or sanitizers manufacturer's instructions; Respondent failed to keep a record of the date and time of each foot spa daily or bi-weekly cleaning and if the foot spa was not used, the Department is charging 3 violations; Respondent failed to follow whirlpool foot spas cleaning and sanitization procedures as required, the Department is charging 3 violations; Respondent failed to clean and disinfect all wax pots; Respondent failed to clean diamond, carbide, natural and metal bits after each use with a brush or ultrasonic cleaner, or by immersing in acetone.\n",
      "------\n",
      "Respondent failed to keep floors, walls, ceilings, shelves, furniture, furnishings, and fixtures clean and in good repair; Respondent failed to clean and disinfect multiple use implements after each customer; Respondent failed to keep a record of the date and time of each foot spa daily or bi-weekly cleaning and if the foot spa was not used, the Department is charging 2 violations; Respondent failed to clean, disinfect, and sterilize manicure and pedicure implements after each use, the Department is charging 2 violations; Respondent failed to disinfect tools, implements, and supplies with an EPA-registered disinfectant solution; Respondent failed to keep all products properly labeled in compliance with OSHA requirements.\n",
      "------\n",
      "Respondent failed to clean and sanitize whirlpool foot spas as required at the end of each day.\n",
      "------\n",
      "Respondent failed to keep a record of the date and time of each foot spa daily or bi-weekly cleaning and if the foot spa was not used, the Department is charging 9 violations; Respondent failed to clean and disinfect all wax pots; Respondent failed to utilize clean and disinfected implements; Respondent failed to clean and disinfect manicure tables prior to use for each client; Respondent failed to discard buffer blocks and porous nail files when exposed to a client's broken skin and/or unhealthy nails.\n",
      "------\n",
      "Respondent leased space in a salon to an individual who engaged in the practice of cosmetology but had not obtained a cosmetology license.\n",
      "------\n",
      "Respondent failed to clean and sanitize whirlpool foot spas as required at the end of each day; Respondent failed to follow whirlpool foot spas cleaning and sanitization procedures as required.\n",
      "------\n",
      "Respondent failed to follow whirlpool foot spas cleaning and sanitization procedures as required bi-weekly, the Department is charging 11 violations; Respondent failed to clean, disinfect, and sterilize manicure and pedicure implements after each use.\n",
      "------\n",
      "Respondent operated a massage establishment without a massage establishment license.\n",
      "------\n"
     ]
    }
   ],
   "source": [
    "cells = driver.find_elements(By.TAG_NAME, \"tr\")\n",
    "for cell in cells[:10]:\n",
    "    violations = cell.find_elements(By.TAG_NAME, \"td\")\n",
    "    try:\n",
    "        print(violations[2].text)\n",
    "        print(\"------\")\n",
    "    except:\n",
    "        print(\"Doesn't have a complaint\")"
   ]
  },
  {
   "cell_type": "markdown",
   "metadata": {},
   "source": [
    "## Loop through each result, printing the complaint number\n",
    "\n",
    "Output should look like this:\n",
    "\n",
    "```\n",
    "Doesn't have a complaint number\n",
    "COS20210004784\n",
    "COS20210009745\n",
    "COS20210011484\n",
    "...\n",
    "```\n",
    "\n",
    "- *Tip: Think about the order of the elements. Can you count from the opposite direction than you normally do?*"
   ]
  },
  {
   "cell_type": "code",
   "execution_count": 11,
   "metadata": {
    "scrolled": true
   },
   "outputs": [
    {
     "name": "stdout",
     "output_type": "stream",
     "text": [
      "Doesn't have a complaint number\n",
      "COS20220002667\n",
      "COS20220000853\n",
      "COS20200013887\n",
      "COS20210010437\n",
      "COS20210014779\n",
      "COS20200015190\n",
      "COS20200008154\n",
      "COS20200007790\n",
      "MAS20210004328\n"
     ]
    }
   ],
   "source": [
    "cells = driver.find_elements(By.TAG_NAME, \"tr\")\n",
    "for cell in cells[:10]:\n",
    "    complaint_nos = cell.find_elements(By.CLASS_NAME, \"results_text\")\n",
    "    try:\n",
    "        print(complaint_nos[-2].text)\n",
    "    except:\n",
    "        print(\"Doesn't have a complaint number\")"
   ]
  },
  {
   "cell_type": "code",
   "execution_count": 18,
   "metadata": {},
   "outputs": [],
   "source": [
    "import pandas as pd"
   ]
  },
  {
   "cell_type": "markdown",
   "metadata": {},
   "source": [
    "## Saving the results\n",
    "\n",
    "### Loop through each result to create a list of dictionaries\n",
    "\n",
    "Each dictionary must contain\n",
    "\n",
    "- Person's name\n",
    "- Violation description\n",
    "- Violation number\n",
    "- License Numbers\n",
    "- Zip Code\n",
    "- County\n",
    "- City\n",
    "\n",
    "Create a new dictionary for each result (except the header).\n",
    "\n",
    "Based on what you print out, the output might look something like:\n",
    "\n",
    "```\n",
    "This row is broken: Name and Location Order Basis for Order\n",
    "{'name': 'NGUYEN, THANH', 'city': 'FRISCO', 'county': 'COLLIN', 'zip_code': '75034', 'complaint_no': 'COS20210004784', 'license_numbers': '790672', 'complaint': 'Respondent failed to clean and sanitize whirlpool foot spas as required at the end of each day, the Department is charging 2 violations; Respondent operated a cosmetology salon without the appropriate license.'}\n",
    "{'name': 'NGUYEN, LONG D', 'city': 'SAN SABA', 'county': 'SAN SABA', 'zip_code': '76877', 'complaint_no': 'COS20210009745', 'license_numbers': '760420, 1620583', 'complaint': 'Respondent failed to keep a record of the date and time of each foot spa daily or bi-weekly cleaning and if the foot spa was not used, the Department is charging 2 violations; Respondent failed to clean, disinfect, and sterilize manicure and pedicure implements after each use; Respondent failed to clean and disinfect manicure tables prior to use for each client.'}\n",
    "```\n",
    "\n",
    "> *Tip: If you want to ask for the \"next sibling,\" you can't use `find_next_sibling` in Selenium, you need to use `element.find_element_by_xpath(\"following-sibling::div\")` to find the next div, or `element.find_element_by_xpath(\"following-sibling::*\")` to find the next anything."
   ]
  },
  {
   "cell_type": "code",
   "execution_count": 31,
   "metadata": {},
   "outputs": [
    {
     "ename": "IndexError",
     "evalue": "list index out of range",
     "output_type": "error",
     "traceback": [
      "\u001b[1;31m---------------------------------------------------------------------------\u001b[0m",
      "\u001b[1;31mIndexError\u001b[0m                                Traceback (most recent call last)",
      "Input \u001b[1;32mIn [31]\u001b[0m, in \u001b[0;36m<cell line: 4>\u001b[1;34m()\u001b[0m\n\u001b[0;32m      7\u001b[0m violations \u001b[38;5;241m=\u001b[39m cell\u001b[38;5;241m.\u001b[39mfind_elements(By\u001b[38;5;241m.\u001b[39mTAG_NAME, \u001b[38;5;124m\"\u001b[39m\u001b[38;5;124mtd\u001b[39m\u001b[38;5;124m\"\u001b[39m)\n\u001b[0;32m      9\u001b[0m row \u001b[38;5;241m=\u001b[39m {}\n\u001b[1;32m---> 11\u001b[0m row[\u001b[38;5;124m'\u001b[39m\u001b[38;5;124mname\u001b[39m\u001b[38;5;124m'\u001b[39m] \u001b[38;5;241m=\u001b[39m \u001b[43mnames\u001b[49m\u001b[43m[\u001b[49m\u001b[38;5;241;43m0\u001b[39;49m\u001b[43m]\u001b[49m\u001b[38;5;241m.\u001b[39mtext\n\u001b[0;32m     12\u001b[0m row[\u001b[38;5;124m'\u001b[39m\u001b[38;5;124mcomplaint_nos\u001b[39m\u001b[38;5;124m'\u001b[39m] \u001b[38;5;241m=\u001b[39m complaint_nos[\u001b[38;5;241m-\u001b[39m\u001b[38;5;241m2\u001b[39m]\u001b[38;5;241m.\u001b[39mtext\n\u001b[0;32m     13\u001b[0m row[\u001b[38;5;124m'\u001b[39m\u001b[38;5;124mviolations\u001b[39m\u001b[38;5;124m'\u001b[39m] \u001b[38;5;241m=\u001b[39m violations[\u001b[38;5;241m2\u001b[39m]\u001b[38;5;241m.\u001b[39mtext\n",
      "\u001b[1;31mIndexError\u001b[0m: list index out of range"
     ]
    }
   ],
   "source": [
    "cells = driver.find_elements(By.TAG_NAME, \"tr\")\n",
    "rows = []\n",
    "\n",
    "for cell in cells[:10]:\n",
    "    names = cell.find_elements(By.CLASS_NAME, \"results_text\")\n",
    "    complaint_nos = cell.find_elements(By.CLASS_NAME, \"results_text\")\n",
    "    violations = cell.find_elements(By.TAG_NAME, \"td\")\n",
    "     \n",
    "    row = {}\n",
    "    \n",
    "    row['name'] = names[0].text\n",
    "    row['complaint_nos'] = complaint_nos[-2].text\n",
    "    row['violations'] = violations[2].text\n",
    "    \n",
    "    print(row)\n",
    "    rows.append(row)\n"
   ]
  },
  {
   "cell_type": "code",
   "execution_count": 23,
   "metadata": {},
   "outputs": [
    {
     "data": {
      "text/html": [
       "<div>\n",
       "<style scoped>\n",
       "    .dataframe tbody tr th:only-of-type {\n",
       "        vertical-align: middle;\n",
       "    }\n",
       "\n",
       "    .dataframe tbody tr th {\n",
       "        vertical-align: top;\n",
       "    }\n",
       "\n",
       "    .dataframe thead th {\n",
       "        text-align: right;\n",
       "    }\n",
       "</style>\n",
       "<table border=\"1\" class=\"dataframe\">\n",
       "  <thead>\n",
       "    <tr style=\"text-align: right;\">\n",
       "      <th></th>\n",
       "      <th>name</th>\n",
       "      <th>complaint_nos</th>\n",
       "      <th>violations</th>\n",
       "    </tr>\n",
       "  </thead>\n",
       "  <tbody>\n",
       "    <tr>\n",
       "      <th>0</th>\n",
       "      <td>NGUYEN, THOMAS</td>\n",
       "      <td>MAS20210004328</td>\n",
       "      <td>Respondent operated a massage establishment wi...</td>\n",
       "    </tr>\n",
       "    <tr>\n",
       "      <th>1</th>\n",
       "      <td>NGUYEN, THOMAS</td>\n",
       "      <td>MAS20210004328</td>\n",
       "      <td>Respondent operated a massage establishment wi...</td>\n",
       "    </tr>\n",
       "    <tr>\n",
       "      <th>2</th>\n",
       "      <td>NGUYEN, THOMAS</td>\n",
       "      <td>MAS20210004328</td>\n",
       "      <td>Respondent operated a massage establishment wi...</td>\n",
       "    </tr>\n",
       "    <tr>\n",
       "      <th>3</th>\n",
       "      <td>NGUYEN, THOMAS</td>\n",
       "      <td>MAS20210004328</td>\n",
       "      <td>Respondent operated a massage establishment wi...</td>\n",
       "    </tr>\n",
       "    <tr>\n",
       "      <th>4</th>\n",
       "      <td>NGUYEN, THOMAS</td>\n",
       "      <td>MAS20210004328</td>\n",
       "      <td>Respondent operated a massage establishment wi...</td>\n",
       "    </tr>\n",
       "  </tbody>\n",
       "</table>\n",
       "</div>"
      ],
      "text/plain": [
       "             name   complaint_nos  \\\n",
       "0  NGUYEN, THOMAS  MAS20210004328   \n",
       "1  NGUYEN, THOMAS  MAS20210004328   \n",
       "2  NGUYEN, THOMAS  MAS20210004328   \n",
       "3  NGUYEN, THOMAS  MAS20210004328   \n",
       "4  NGUYEN, THOMAS  MAS20210004328   \n",
       "\n",
       "                                          violations  \n",
       "0  Respondent operated a massage establishment wi...  \n",
       "1  Respondent operated a massage establishment wi...  \n",
       "2  Respondent operated a massage establishment wi...  \n",
       "3  Respondent operated a massage establishment wi...  \n",
       "4  Respondent operated a massage establishment wi...  "
      ]
     },
     "execution_count": 23,
     "metadata": {},
     "output_type": "execute_result"
    }
   ],
   "source": [
    "df = pd.DataFrame(rows)\n",
    "df.head()"
   ]
  },
  {
   "cell_type": "markdown",
   "metadata": {},
   "source": [
    "### Save that to a CSV named `output.csv`\n",
    "\n",
    "The dataframe should look something like...\n",
    "\n",
    "|index|name|city|county|zip_code|complaint_no|license_numbers|complaint|\n",
    "|---|---|---|---|---|---|---|---|\n",
    "|0|NGUYEN, THANH|FRISCO|COLLIN|75034|COS20210004784|790672|Respondent failed to clean and sanitize whirlp...|\n",
    "|1|NGUYEN, LONG D|SAN SABA|SAN SABA|76877|COS20210009745|760420, 1620583|Respondent failed to keep a record of the date...|\n",
    "\n",
    "\n",
    "- *Tip: If you send a list of dictionaries to `pd.DataFrame(...)`, it will create a dataframe out of that list!*"
   ]
  },
  {
   "cell_type": "code",
   "execution_count": null,
   "metadata": {},
   "outputs": [],
   "source": []
  },
  {
   "cell_type": "code",
   "execution_count": null,
   "metadata": {},
   "outputs": [],
   "source": []
  },
  {
   "cell_type": "markdown",
   "metadata": {},
   "source": [
    "### Open the CSV file and examine the first few. Make sure you didn't save an extra weird unnamed column."
   ]
  },
  {
   "cell_type": "code",
   "execution_count": null,
   "metadata": {},
   "outputs": [],
   "source": []
  }
 ],
 "metadata": {
  "kernelspec": {
   "display_name": "Python 3 (ipykernel)",
   "language": "python",
   "name": "python3"
  },
  "language_info": {
   "codemirror_mode": {
    "name": "ipython",
    "version": 3
   },
   "file_extension": ".py",
   "mimetype": "text/x-python",
   "name": "python",
   "nbconvert_exporter": "python",
   "pygments_lexer": "ipython3",
   "version": "3.10.3"
  }
 },
 "nbformat": 4,
 "nbformat_minor": 2
}
